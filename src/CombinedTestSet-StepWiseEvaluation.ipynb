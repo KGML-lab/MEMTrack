{
 "cells": [
  {
   "cell_type": "code",
   "execution_count": null,
   "id": "d4bac5e2-8ebb-4c11-ab8b-eed649140b43",
   "metadata": {},
   "outputs": [],
   "source": [
    "%config Completer.use_jedi = False"
   ]
  },
  {
   "cell_type": "code",
   "execution_count": null,
   "id": "8c264b59-2d34-4fc4-a1ce-9e84c6ed3a87",
   "metadata": {},
   "outputs": [],
   "source": [
    "import numpy as np\n",
    "import pandas as pd\n",
    "import seaborn as sns\n",
    "import matplotlib.pyplot as plt\n",
    "import matplotlib.patches as mpatches"
   ]
  },
  {
   "cell_type": "code",
   "execution_count": null,
   "id": "fd479099-fb72-4c98-bada-7cabbe5e6a19",
   "metadata": {},
   "outputs": [],
   "source": [
    "def calculate_prec_recall_test_set(store_file_path):\n",
    "    results = open(store_file_path,'r',)\n",
    "    video_num_id = 0\n",
    "    tp_id = 1\n",
    "    fp_id = 2\n",
    "    fn_id = 3\n",
    "    tp_sum = 0\n",
    "    fp_sum = 0\n",
    "    fn_sum = 0\n",
    "    lines = results.readlines()\n",
    "    if len(lines)==0:\n",
    "        return 0,0\n",
    "    else:\n",
    "        \n",
    "        for line in lines:\n",
    "            print(line)\n",
    "            line_details = [x.strip() for x in line.split(\",\")]\n",
    "            video_num = line_details[video_num_id]\n",
    "            tp_sum += (int(line_details[tp_id].strip()))\n",
    "            fp_sum += (int(line_details[fp_id].strip()))\n",
    "            fn_sum += (int(line_details[fn_id].strip()))\n",
    "\n",
    "        avg_prec = tp_sum / (tp_sum + fp_sum)\n",
    "        avg_recall = tp_sum / (tp_sum + fn_sum)\n",
    "        total = tp_sum + fp_sum + fn_sum\n",
    "        print(\"TP: \", tp_sum)\n",
    "        print(\"FP: \", fp_sum)\n",
    "        print(\"FN: \", fn_sum)\n",
    "        #print(\"Total: \", total)\n",
    "        print(\"Pr: \", round(avg_prec,5))\n",
    "        print(\"Re: \", round(avg_recall,5))\n",
    "        \n",
    "        return avg_prec, avg_recall"
   ]
  },
  {
   "cell_type": "code",
   "execution_count": null,
   "id": "41698dfb-e7dc-4962-b174-b9ec7b007bfd",
   "metadata": {},
   "outputs": [],
   "source": [
    "store_file_path_main = \"/data/medha/Bacteria/DataFeatures/liquid_all_tracked//test_set_results\"\n",
    "precision = {}\n",
    "recall = {}\n"
   ]
  },
  {
   "cell_type": "markdown",
   "id": "f7ca34bc-8716-4da2-abdc-41c6d326337a",
   "metadata": {},
   "source": [
    "### Step 1: Detection Individual Models"
   ]
  },
  {
   "cell_type": "code",
   "execution_count": null,
   "id": "44a1c1c5-115d-4c06-8d67-08a4931f3f80",
   "metadata": {
    "tags": []
   },
   "outputs": [],
   "source": [
    "difficulty_level = \"Motility-low\"\n",
    "store_file_path = store_file_path_main + f\"_{difficulty_level}.txt\"\n",
    "pr, rc = calculate_prec_recall_test_set(store_file_path)\n",
    "print(\"Precision: \", pr)\n",
    "print(\"Recall: \", rc)\n",
    "precision[\"Low Motility Detector\"] = pr\n",
    "recall[\"Low Motility Detector\"] = rc"
   ]
  },
  {
   "cell_type": "code",
   "execution_count": null,
   "id": "46a55b77-b588-4547-a04a-64c4c3333ab6",
   "metadata": {},
   "outputs": [],
   "source": [
    "difficulty_level = \"Motility-wiggle\"\n",
    "store_file_path = store_file_path_main + f\"_{difficulty_level}.txt\"\n",
    "pr, rc = calculate_prec_recall_test_set(store_file_path)\n",
    "print(\"Precision: \", pr)\n",
    "print(\"Recall: \", rc)\n",
    "precision[\"Wiggle Motility Detector\"] = pr\n",
    "recall[\"Wiggle Motility Detector\"] = rc"
   ]
  },
  {
   "cell_type": "code",
   "execution_count": null,
   "id": "ab0bee34-3f70-4709-b250-13ab859b30ac",
   "metadata": {},
   "outputs": [],
   "source": [
    "difficulty_level = \"Motility-mid\"\n",
    "store_file_path = store_file_path_main + f\"_{difficulty_level}.txt\"\n",
    "pr, rc = calculate_prec_recall_test_set(store_file_path)\n",
    "print(\"Precision: \", pr)\n",
    "print(\"Recall: \", rc)\n",
    "precision[\"Mid Motility Detector\"] = pr\n",
    "recall[\"Mid Motility Detector\"] = rc"
   ]
  },
  {
   "cell_type": "code",
   "execution_count": null,
   "id": "3f2d27e5-ccfa-432b-9058-f1940c845172",
   "metadata": {},
   "outputs": [],
   "source": [
    "difficulty_level = \"Motility-high\"\n",
    "store_file_path = store_file_path_main + f\"_{difficulty_level}.txt\"\n",
    "pr, rc = calculate_prec_recall_test_set(store_file_path)\n",
    "print(\"Precision: \", pr)\n",
    "print(\"Recall: \", rc)\n",
    "precision[\"High Motility Detector\"] = pr\n",
    "recall[\"High Motility Detector\"] = rc"
   ]
  },
  {
   "cell_type": "markdown",
   "id": "dbe10620-e647-46ff-83bd-f8fa1052cc91",
   "metadata": {},
   "source": [
    "### Step 2: Detection Combination Model"
   ]
  },
  {
   "cell_type": "code",
   "execution_count": null,
   "id": "45f9856a-92b7-4c03-a1a7-b8f5e467140b",
   "metadata": {},
   "outputs": [],
   "source": [
    "store_file_path = store_file_path_main + f\"_combined.txt\" \n",
    "pr, rc = calculate_prec_recall_test_set(store_file_path)\n",
    "print(\"Precision: \", pr)\n",
    "print(\"Recall: \", rc)\n",
    "precision[\"Disentangled Detector\"] = pr\n",
    "recall[\"Disentangled Detector\"] = rc"
   ]
  },
  {
   "cell_type": "markdown",
   "id": "ffda5713-a27a-4c16-b67a-396a4ecb6f9f",
   "metadata": {},
   "source": [
    "### Step 3: Filter on Predicted Bacteria Bounding Box Size"
   ]
  },
  {
   "cell_type": "code",
   "execution_count": null,
   "id": "c9716f9c-1aab-4673-b635-46428896c8d8",
   "metadata": {},
   "outputs": [],
   "source": [
    "store_file_path = store_file_path_main + f\"_filter_bbox.txt\"\n",
    "pr, rc = calculate_prec_recall_test_set(store_file_path)\n",
    "print(\"Precision: \", pr)\n",
    "print(\"Recall: \", rc)\n",
    "precision[\"BBox Filter\"] = pr\n",
    "recall[\"BBox Filter\"] = rc"
   ]
  },
  {
   "cell_type": "markdown",
   "id": "a8031a5a-82af-4eab-be47-5b3c1735e470",
   "metadata": {},
   "source": [
    "### Step 4: Filter on Predicted Bacteria Confidence Score"
   ]
  },
  {
   "cell_type": "code",
   "execution_count": null,
   "id": "b5198a56-9ff7-4b40-85f4-00e7b5986920",
   "metadata": {},
   "outputs": [],
   "source": [
    "store_file_path = store_file_path_main + f\"_filter_conf_score.txt\" \n",
    "pr, rc = calculate_prec_recall_test_set(store_file_path)\n",
    "print(\"Precision: \", pr)\n",
    "print(\"Recall: \", rc)\n",
    "precision[\"Confidence Score Filter\"] = pr\n",
    "recall[\"Confidence Score Filter\"] = rc"
   ]
  },
  {
   "cell_type": "markdown",
   "id": "0a0f46f3-75c7-4760-8f19-8b25d7a29ddb",
   "metadata": {
    "tags": []
   },
   "source": [
    "### Step 4: Filter using NMS"
   ]
  },
  {
   "cell_type": "code",
   "execution_count": null,
   "id": "33689414-fc96-49ac-8787-4b3a8df4392e",
   "metadata": {},
   "outputs": [],
   "source": [
    "store_file_path = store_file_path_main + f\"_filter_nms.txt\" \n",
    "pr, rc = calculate_prec_recall_test_set(store_file_path)\n",
    "print(\"Precision: \", pr)\n",
    "print(\"Recall: \", rc)\n",
    "precision[\"NMS Filter\"] = pr\n",
    "recall[\"NMS Filter\"] = rc"
   ]
  },
  {
   "cell_type": "markdown",
   "id": "00f075c8-bcf4-4d9a-9b6b-166d371ef9b5",
   "metadata": {},
   "source": [
    "## Step 5: Tracking"
   ]
  },
  {
   "cell_type": "code",
   "execution_count": null,
   "id": "55f7043d-380d-4b62-8dd9-e129b65efc94",
   "metadata": {
    "tags": []
   },
   "outputs": [],
   "source": [
    "store_file_path = store_file_path_main + f\"_tracking.txt\" \n",
    "pr, rc = calculate_prec_recall_test_set(store_file_path)\n",
    "print(\"Precision: \", pr)\n",
    "print(\"Recall: \", rc)\n",
    "precision[\"Interpolated SORT\"] = pr\n",
    "recall[\"Interpolated SORT\"] = rc"
   ]
  },
  {
   "cell_type": "markdown",
   "id": "91898a64-4856-4eb8-a048-34bf4b3a402f",
   "metadata": {
    "tags": []
   },
   "source": [
    "### Step 6: Filter on Track length"
   ]
  },
  {
   "cell_type": "code",
   "execution_count": null,
   "id": "6388fb8a-47e9-4afb-87db-a738b39711b9",
   "metadata": {},
   "outputs": [],
   "source": [
    "store_file_path = store_file_path_main + f\"_filter_track_length.txt\" \n",
    "pr, rc = calculate_prec_recall_test_set(store_file_path)\n",
    "print(\"Precision: \", \n",
    "      pr)\n",
    "print(\"Recall: \", rc)\n",
    "precision[\"Track Length Filter\"] = pr\n",
    "recall[\"Track Length Filter\"] = rc"
   ]
  },
  {
   "cell_type": "code",
   "execution_count": null,
   "id": "5e83e259-5e5a-4422-814a-1bb3c02802ec",
   "metadata": {
    "tags": []
   },
   "outputs": [],
   "source": [
    "store_file_path = store_file_path_main + f\"_trackmate.txt\" \n",
    "pr, rc = calculate_prec_recall_test_set(store_file_path)\n",
    "print(\"Precision: \", pr)\n",
    "print(\"Recall: \", rc)\n",
    "precision[\"Track Length Filter\"] = pr\n",
    "recall[\"Track Length Filter\"] = rc"
   ]
  },
  {
   "cell_type": "code",
   "execution_count": null,
   "id": "542cc870-cb3a-4273-944c-e8007899553a",
   "metadata": {},
   "outputs": [],
   "source": [
    "precision"
   ]
  },
  {
   "cell_type": "code",
   "execution_count": null,
   "id": "78c9f76d-98cf-4c23-b265-f48700622f75",
   "metadata": {},
   "outputs": [],
   "source": [
    "recall"
   ]
  },
  {
   "cell_type": "code",
   "execution_count": null,
   "id": "dda8a10e-a433-4529-bfb0-c9615b8e4194",
   "metadata": {},
   "outputs": [],
   "source": [
    "data = pd.DataFrame(columns= [\"precision\", \"recall\", \"step\"])\n",
    "for i, key in enumerate(precision.keys()):\n",
    "    data_entry = {\"precision\":precision[key],\"recall\":recall[key], \"step\":key}\n",
    "    data = data.append(data_entry, ignore_index=True)\n",
    "data.reset_index(inplace=True)\n",
    "#data"
   ]
  },
  {
   "cell_type": "code",
   "execution_count": null,
   "id": "1f72796c-b909-486f-bacd-a7a145f972bf",
   "metadata": {},
   "outputs": [],
   "source": [
    "fig, ax = plt.subplots(1,3,figsize=(29,10))\n",
    "\n",
    "precision_patch = mpatches.Patch(color=\"red\", label=\"Precision\")\n",
    "recall_patch = mpatches.Patch(color=\"black\", label=\"Recall\")\n",
    "l2_2 = ax[2].legend(handles=[precision_patch, recall_patch],title =\"Metric\",loc=\"lower right\", prop={'size': 16}, \n",
    "                title_fontsize=16)\n",
    "l2_1 = ax[1].legend(handles=[precision_patch, recall_patch],title =\"Metric\",loc=\"lower right\", prop={'size': 16}, \n",
    "                title_fontsize=16)\n",
    "l2_0 = ax[0].legend(handles=[precision_patch, recall_patch],title =\"Metric\",loc=\"lower right\", prop={'size': 16}, \n",
    "                title_fontsize=16)\n",
    "\n",
    "markers1=['o', 'X', 's', \"P\"]\n",
    "markers2=['P', 'D', '*', \"v\"]\n",
    "markers3=['v', 'p', '^']\n",
    "x = np.array(range(len(list(precision.values()))))\n",
    "y = (data[\"recall\"].values)\n",
    "\n",
    "\n",
    "# PART 1\n",
    "x1 = x[:4]\n",
    "y1 = y[:4]\n",
    "\n",
    "#annotate values over markers\n",
    "for px, py in zip(x1,y1):\n",
    "    ax[0].text(px, py+0.01, round(py,2),size=18)\n",
    "    \n",
    "#shifted by 3 to skip the first 3 values in quiver plot    \n",
    "#plt.quiver(x[3:-1], y[3:-1], x[4:]-x[3:-1], y[4:]-y[3:-1], scale_units='xy', angles='xy', scale=1,color=\"black\",width=0.0055)\n",
    "\n",
    "for i in range(3):\n",
    "    ax[0].quiver(x1[i], y1[i], x1[3] - x1[i], y1[3] - y1[i], scale_units='xy',\n",
    "                 angles='xy', scale=1, color=\"black\", width=0.0055, alpha=0.8,\n",
    "                 headwidth=8, headlength=10, headaxislength=8)\n",
    "\n",
    "#plot markers\n",
    "sns.lineplot(x = range(len(list(x1))), y=list(y1), data=data[:4],\n",
    "             markers=markers1, style=\"step\",  markersize=18,color=\"orange\", ax=ax[0])\n",
    "\n",
    "legend_handles, labels= ax[0].get_legend_handles_labels()\n",
    "###########################\n",
    "x = np.array(range(len(list(recall.values()))))\n",
    "y = (data[\"precision\"].values)\n",
    "\n",
    "\n",
    "# PART 1\n",
    "x1 = x[:4]\n",
    "y1 = y[:4]\n",
    "\n",
    "#annotate values over markers\n",
    "for px, py in zip(x1,y1):\n",
    "    ax[0].text(px, py+0.01, round(py,2),size=18)\n",
    "    \n",
    "#shifted by 3 to skip the first 3 values in quiver plot    \n",
    "#plt.quiver(x[3:-1], y[3:-1], x[4:]-x[3:-1], y[4:]-y[3:-1], scale_units='xy', angles='xy', scale=1,color=\"black\",width=0.0055)\n",
    "\n",
    "for i in range(3):\n",
    "    ax[0].quiver(x1[i], y1[i], x1[3] - x1[i], y1[3] - y1[i], scale_units='xy',\n",
    "                 angles='xy', scale=1, color=\"red\", width=0.0055, alpha=0.8,\n",
    "                 headwidth=8, headlength=10, headaxislength=8)\n",
    "\n",
    "#plot markers\n",
    "sns.lineplot(x = range(len(list(x1))), y=list(y1), data=data[:4],\n",
    "             markers=markers1, style=\"step\",  markersize=18,color=\"orange\", ax=ax[0])\n",
    "\n",
    "ax[0].legend(legend_handles, labels,loc='lower left',prop={'size': 16} ,title =\"Steps\", title_fontsize=16, markerscale=2)\n",
    "ax[0].get_legend().remove()\n",
    "################################\n",
    "\n",
    "x = np.array(range(len(list(precision.values()))))\n",
    "y = (data[\"recall\"].values)\n",
    "\n",
    "# PART 2\n",
    "x1 = x[:4]\n",
    "y1 = y[3:7]\n",
    "\n",
    "#annotate values over markers\n",
    "for px, py in zip(x1,y1):\n",
    "    ax[1].text(px, py+0.01, round(py,2),size=18)\n",
    "    \n",
    "for i in range(len(x1)-1):\n",
    "    ax[1].quiver(x1[i], y1[i], x1[i+1]-x1[i], y1[i+1]-y1[i], scale_units='xy',\n",
    "                 angles='xy', scale=1, color=\"black\", width=0.0055, alpha=0.8,\n",
    "                 headwidth=8, headlength=10, headaxislength=8)\n",
    "\n",
    "\n",
    "\n",
    "#plot markers\n",
    "p1 = sns.lineplot(x = range(len(list(x1))), y=list(y1), data=data[3:7],\n",
    "             markers=markers2, style=\"step\",  markersize=15,color=\"magenta\", ax=ax[1])\n",
    "legend_handles, labels= ax[1].get_legend_handles_labels()\n",
    "############################\n",
    "\n",
    "x = np.array(range(len(list(precision.values()))))\n",
    "y = (data[\"precision\"].values)\n",
    "\n",
    "# PART 2\n",
    "x1 = x[:4]\n",
    "y1 = y[3:7]\n",
    "\n",
    "#annotate values over markers\n",
    "for px, py in zip(x1,y1):\n",
    "    ax[1].text(px, py+0.01, round(py,2),size=18)\n",
    "    \n",
    "for i in range(len(x1)-1):\n",
    "    ax[1].quiver(x1[i], y1[i], x1[i+1]-x1[i], y1[i+1]-y1[i], scale_units='xy',\n",
    "                 angles='xy', scale=1, color=\"red\", width=0.0055, alpha=0.8,\n",
    "                 headwidth=8, headlength=10, headaxislength=8)\n",
    "\n",
    "\n",
    "\n",
    "#plot markers\n",
    "p1 = sns.lineplot(x = range(len(list(x1))), y=list(y1), data=data[3:7],\n",
    "             markers=markers2, style=\"step\",  markersize=18,color=\"magenta\", ax=ax[1])\n",
    "\n",
    "ax[1].legend(legend_handles, labels,loc='lower left',prop={'size': 16} ,title =\"Steps\", title_fontsize=16, markerscale=2)\n",
    "#######################\n",
    "x = np.array(range(len(list(precision.values()))))\n",
    "y = (data[\"recall\"].values)\n",
    "# PART 3\n",
    "x1 = x[:3]\n",
    "y1 = y[6:9]\n",
    "\n",
    "#annotate values over markers\n",
    "for px, py in zip(x1,y1):\n",
    "    ax[2].text(px, py+0.01, round(py,2),size=18)\n",
    "    \n",
    "for i in range(len(x1)-1):\n",
    "    ax[2].quiver(x1[i], y1[i], x1[i+1]-x1[i], y1[i+1]-y1[i], scale_units='xy',\n",
    "                 angles='xy', scale=1, color=\"black\", width=0.0055, alpha=0.8,\n",
    "                 headwidth=8, headlength=10, headaxislength=8)\n",
    "\n",
    "\n",
    "\n",
    "#plot markers\n",
    "sns.lineplot(x = range(len(list(x1))), y=list(y1), data=data[6:9],\n",
    "             style=\"step\",  markersize=18,color=\"blue\", ax=ax[2],markers=markers3)\n",
    "\n",
    "legend_handles, labels= ax[2].get_legend_handles_labels()\n",
    "#################\n",
    "x = np.array(range(len(list(precision.values()))))\n",
    "y = (data[\"precision\"].values)\n",
    "# PART 3\n",
    "x1 = x[:3]\n",
    "y1 = y[6:9]\n",
    "\n",
    "#annotate values over markers\n",
    "for px, py in zip(x1,y1):\n",
    "    ax[2].text(px, py+0.01, round(py,2),size=18)\n",
    "    \n",
    "for i in range(len(x1)-1):\n",
    "    ax[2].quiver(x1[i], y1[i], x1[i+1]-x1[i], y1[i+1]-y1[i], scale_units='xy',\n",
    "                 angles='xy', scale=1, color=\"red\", width=0.0055, alpha=0.8,\n",
    "                 headwidth=8, headlength=10, headaxislength=8)\n",
    "\n",
    "\n",
    "\n",
    "#plot markers\n",
    "sns.lineplot(x = range(len(list(x1))), y=list(y1), data=data[6:9],\n",
    "             style=\"step\",  markersize=18,color=\"blue\", ax=ax[2],markers=markers3)\n",
    "\n",
    "\n",
    "ax[2].legend(legend_handles, labels,loc='lower left',prop={'size': 16} ,title =\"Steps\", title_fontsize=16, markerscale=2)\n",
    "##############\n",
    "\n",
    "# ax[0].set(ylim=(0.5, 1.02))\n",
    "# ax[1].set(ylim=(0.5, 1.02))\n",
    "# ax[2].set(ylim=(0.5, 1.02))\n",
    "\n",
    "# ax[0].set(xlim=(-0.5, 4.02))\n",
    "# ax[1].set(xlim=(-0.5, 4.02))\n",
    "# ax[2].set(xlim=(-0.5, 4.02))\n",
    "\n",
    "# ax[1].legend(loc='lower left',prop={'size': 15})\n",
    "# ax[0].legend(loc='lower left',prop={'size': 15})\n",
    "# ax[2].legend(loc='lower left',prop={'size': 15})\n",
    "\n",
    "# fig.xlabel('Processing Steps',size=25,color=\"black\")\n",
    "# plt.ylabel('Metric',size=25,color=\"black\")\n",
    "# plt.yticks(size = 16,color=\"black\")\n",
    "\n",
    "for ax_num in range(0,3):\n",
    "    ax[ax_num].set_xticks([])\n",
    "    ax[ax_num].grid(\"on\", alpha=0.25)\n",
    "    #ax[ax_num].legend(loc='lower left',prop={'size': 15})\n",
    "    ax[ax_num].set(xlim=(-0.5, 4.02))\n",
    "    ax[ax_num].set(ylim=(0.0, 0.9))\n",
    "    \n",
    "ax[0].set_title(\"Multi-level Bacteria Detection\",fontsize=24)\n",
    "ax[1].set_title(\"False Positive Pruning\",fontsize=24)\n",
    "ax[2].set_title(\"Interpolated Tracking\",fontsize=24)\n",
    "fig.suptitle(\"Collagen\",fontsize=28)\n",
    "\n",
    "ax[2].add_artist(l2_2)\n",
    "ax[1].add_artist(l2_1)\n",
    "ax[0].add_artist(l2_0)\n",
    "ax[0].set_ylabel('Metric',fontsize=24)\n",
    "\n",
    "ax[0].set_xticks([0,1,2,3])\n",
    "ax[0].set_xticklabels([\"Easy\",\"Hard\",\"Very Hard\",\"Combined\"], fontsize=20, rotation=15)\n",
    "\n",
    "# ax[1].set_xticks([0,1,2,3])\n",
    "# ax[1].set_xticklabels([\"Multi-level\\nBacteria\\nDetector\",\"BBox \\nfilter\",\"Confidence \\nScore\\nFilter\",\"NMS\\nFilter\"], fontsize=20, rotation=15)\n",
    "\n",
    "# ax[2].set_xticks([0,1,2])\n",
    "# ax[2].set_xticklabels([\"NMS\\nFilter\", \"Interpolated\\nSORT\", \"Track Length\\nFilter\"], fontsize=20, rotation=15)\n",
    "\n",
    "#plt.show()\n",
    "\n",
    "# Saving the figure.\n",
    "plt.savefig(\"prec_rec_quiver_collagen.png\")"
   ]
  },
  {
   "cell_type": "code",
   "execution_count": null,
   "id": "99d62c90-7594-4a8e-bd07-3754fd08a4df",
   "metadata": {},
   "outputs": [],
   "source": []
  },
  {
   "cell_type": "code",
   "execution_count": null,
   "id": "b80feb81-3790-49d8-8a12-f8297a5c7c15",
   "metadata": {},
   "outputs": [],
   "source": []
  },
  {
   "cell_type": "code",
   "execution_count": null,
   "id": "a4a0c98a-8f6d-4451-85d3-0288638c4f8b",
   "metadata": {},
   "outputs": [],
   "source": []
  }
 ],
 "metadata": {
  "kernelspec": {
   "display_name": "Python 3",
   "language": "python",
   "name": "python3"
  },
  "language_info": {
   "codemirror_mode": {
    "name": "ipython",
    "version": 3
   },
   "file_extension": ".py",
   "mimetype": "text/x-python",
   "name": "python",
   "nbconvert_exporter": "python",
   "pygments_lexer": "ipython3",
   "version": "3.6.9"
  }
 },
 "nbformat": 4,
 "nbformat_minor": 5
}
