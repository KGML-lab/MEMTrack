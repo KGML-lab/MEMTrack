{
 "cells": [
  {
   "cell_type": "markdown",
   "id": "63d3e63a-371e-4751-a446-0a7152844814",
   "metadata": {},
   "source": [
    "\n",
    "Format of input zip file:\n",
    "- zip_file/\n",
    "    - Images without Labels/\n",
    "       - sample_name1.jpg\n",
    "       - sample_name2.jpg\n",
    "       - sample_name3.jpg\n",
    "    - Raw Data.csv\n",
    "\n",
    "RawData.csv should have teh following columns:\n",
    "1. \"TID\" --> Track Id\n",
    "2. \"PID\" --> Picture Id/Frame Number\n",
    "3. \"x [pixel]\"\" -->  x coordinate\n",
    "4. \"y [pixel]\"  --> y coordinate\n",
    "5. \"subpopulation\" -->containing \"N\"/\"L\"/\"M\"/\"H\" for subpopulations\n",
    "\n",
    "Expected Directory Structure after this code:\n",
    "MEMTRack/\n",
    "   - data/\n",
    "      - zip file\n",
    "        - videomap.txt\n",
    "        - collagen/\n",
    "            - video55/\n",
    "                - frame1/\n",
    "                    - /annotations_motility_low\n",
    "                      - 1.txt\n",
    "                      - 2.txt\n",
    "                    - /annotations_motility_wiggle\n",
    "                    - /annotations_motility_mid\n",
    "                    - /annotations_motility_high\n",
    "                    - bacteria/\n",
    "                       - 1/\n",
    "                          - xy_coord/\n",
    "                             - 0.txt\n",
    "                             - 1.txt\n",
    "                        - 2/\n",
    "                    - images/\n",
    "                       - 0.tif\n",
    "                       - 1.tif\n",
    "                   \n",
    "            - video56/\n"
   ]
  },
  {
   "cell_type": "code",
   "execution_count": 1,
   "id": "9b8fe4e0-0ab9-49a1-8d44-5e8d4215fea1",
   "metadata": {
    "tags": []
   },
   "outputs": [],
   "source": [
    "%config Completer.use_jedi = False"
   ]
  },
  {
   "cell_type": "code",
   "execution_count": 2,
   "id": "a1694965-28cb-4050-af0b-d02da2ff8ef3",
   "metadata": {},
   "outputs": [],
   "source": [
    "import zipfile\n",
    "import openpyxl\n",
    "import os\n",
    "import csv\n",
    "import cv2\n",
    "import shutil\n",
    "import PIL\n",
    "import glob\n",
    "import pandas as pd\n",
    "import numpy as np\n",
    "from natsort import natsorted\n",
    "from PIL import Image"
   ]
  },
  {
   "cell_type": "markdown",
   "id": "d89ffedb-f022-4519-a93e-059b10d103ae",
   "metadata": {
    "tags": []
   },
   "source": [
    "# Loading New Data"
   ]
  },
  {
   "cell_type": "markdown",
   "id": "250895aa-6108-415e-9ce6-70a09f1ab336",
   "metadata": {},
   "source": [
    "Update the variables in the next cell according to your directory structure"
   ]
  },
  {
   "cell_type": "code",
   "execution_count": 3,
   "id": "ce49ad1f-e421-45a7-8b61-963072c9f6b6",
   "metadata": {},
   "outputs": [],
   "source": [
    "zip_data_dir_path = \"/home/medha/BacteriaDetectionTracking/MEMTrack/\" # path to zip file\n",
    "zip_dir = \"Control_4.zip\" # name of zip file\n",
    "\n",
    "final_data_dir = data_dir = \"/home/medha/BacteriaDetectionTracking/MEMTrack/data/\" # path to final data folder\n",
    "\n",
    "target_data_sub_dir = \"/home/medha/BacteriaDetectionTracking/MEMTrack/data/collagen/\" # path to sub directory in main data folder\n",
    "os.makedirs(target_data_sub_dir, exist_ok=True)\n",
    "\n",
    "#videomap.txt: containing video number and video name. Update sample_videomap.txt in data/. WIll be updated on its own\n",
    "video_map_path = \"/home/medha/BacteriaDetectionTracking/MEMTrack/data/videomap.txt\" #path to video map\n",
    "\n",
    "csv_file_name = \"Raw Data.csv\""
   ]
  },
  {
   "cell_type": "code",
   "execution_count": 4,
   "id": "8fe8bc4b-8da7-42aa-a284-ec2b2cd35f15",
   "metadata": {
    "tags": []
   },
   "outputs": [],
   "source": [
    "# unzip data\n",
    "zip_data_dir = os.path.join(zip_data_dir_path, zip_dir)\n",
    "with zipfile.ZipFile(zip_data_dir, 'r') as zip_ref:\n",
    "    zip_ref.extractall(zip_data_dir_path)"
   ]
  },
  {
   "cell_type": "code",
   "execution_count": 5,
   "id": "dda896f4-3383-4896-a65e-fa98d269bc29",
   "metadata": {},
   "outputs": [],
   "source": [
    "#find video number from video map\n",
    "def find_next_video_num(data_dir):\n",
    "    #data_dir = \"../Data/\"\n",
    "    data_sub_dirs = glob.glob(f'{data_dir}/*')  \n",
    "    print(\"data dirs: \", data_sub_dirs)\n",
    "    video_dirs = glob.glob(f'{data_dir}/*/*')  \n",
    "    max_id = 0\n",
    "    for video in video_dirs:\n",
    "        #print(video)\n",
    "        if \"ipynb\" not in video:\n",
    "            video_id = int(video.split(\"video\")[1])\n",
    "            #print(video_id)\n",
    "            max_id = max(video_id, max_id)\n",
    "    print(\"last video num: \",max_id)\n",
    "    return max_id +1"
   ]
  },
  {
   "cell_type": "code",
   "execution_count": 6,
   "id": "6f0b485b-babb-43e5-943d-93bad4a7001a",
   "metadata": {},
   "outputs": [
    {
     "name": "stdout",
     "output_type": "stream",
     "text": [
      "data dirs:  ['/home/medha/BacteriaDetectionTracking/MEMTrack/data/videomap.txt', '/home/medha/BacteriaDetectionTracking/MEMTrack/data/sample_videomap.txt']\n",
      "last video num:  0\n",
      "curr video num:  1\n"
     ]
    }
   ],
   "source": [
    "video_num = find_next_video_num(data_dir)\n",
    "print(\"curr video num: \",video_num)"
   ]
  },
  {
   "cell_type": "code",
   "execution_count": 7,
   "id": "d2888a67-0c21-4e3b-920a-dcbd3f32098e",
   "metadata": {},
   "outputs": [],
   "source": [
    "video_dir = os.path.join(zip_data_dir_path, zip_dir.split(\".zip\")[0])"
   ]
  },
  {
   "cell_type": "code",
   "execution_count": 8,
   "id": "760aaba9-0462-464d-a132-66647aaa5380",
   "metadata": {},
   "outputs": [
    {
     "data": {
      "text/plain": [
       "'/home/medha/BacteriaDetectionTracking/MEMTrack/Control_4'"
      ]
     },
     "execution_count": 8,
     "metadata": {},
     "output_type": "execute_result"
    }
   ],
   "source": [
    "video_dir"
   ]
  },
  {
   "cell_type": "code",
   "execution_count": 9,
   "id": "326f55f1-7025-4b6e-a224-d7a27bb53eef",
   "metadata": {},
   "outputs": [
    {
     "name": "stderr",
     "output_type": "stream",
     "text": [
      "<>:4: SyntaxWarning: \"is\" with a literal. Did you mean \"==\"?\n",
      "<>:4: SyntaxWarning: \"is\" with a literal. Did you mean \"==\"?\n",
      "/tmp/ipykernel_58527/3806333217.py:4: SyntaxWarning: \"is\" with a literal. Did you mean \"==\"?\n",
      "  video_strain = \"_\".join(video_dir.strip().rsplit(\"/\",3)[1:-1] if video_dir[-1] is \"/\" else  video_dir.strip().rsplit(\"/\",2)[1:])\n"
     ]
    }
   ],
   "source": [
    "# update video mapping text file?\n",
    "# can have an argument--> if we need to or not? or manual\n",
    "video_map = open(video_map_path,'a+')\n",
    "video_strain = \"_\".join(video_dir.strip().rsplit(\"/\",3)[1:-1] if video_dir[-1] is \"/\" else  video_dir.strip().rsplit(\"/\",2)[1:])\n",
    "video_map.write(\"\\n\")\n",
    "video_map.write(f\"{video_num}, {video_strain}\")\n",
    "video_map.close()"
   ]
  },
  {
   "cell_type": "code",
   "execution_count": 10,
   "id": "0856ba03-a149-4b32-b275-5fa23a973169",
   "metadata": {
    "tags": []
   },
   "outputs": [
    {
     "data": {
      "text/plain": [
       "['Control Set 1_b0s2t6450c0x3255-660y0-492.tif',\n",
       " 'Control Set 1_b0s2t6451c0x3255-660y0-492.tif',\n",
       " 'Control Set 1_b0s2t6452c0x3255-660y0-492.tif',\n",
       " 'Control Set 1_b0s2t6453c0x3255-660y0-492.tif',\n",
       " 'Control Set 1_b0s2t6454c0x3255-660y0-492.tif']"
      ]
     },
     "execution_count": 10,
     "metadata": {},
     "output_type": "execute_result"
    }
   ],
   "source": [
    "#confirming image source\n",
    "count = 0\n",
    "images_source = video_dir + \"/Images without Labels/\"\n",
    "files = natsorted(os.listdir(images_source))\n",
    "files[:5]"
   ]
  },
  {
   "cell_type": "markdown",
   "id": "4cad6359-3e5b-4b81-a4fc-5c9f61b8f98f",
   "metadata": {},
   "source": [
    "create image data with annotations easy and hard"
   ]
  },
  {
   "cell_type": "code",
   "execution_count": 11,
   "id": "0491d00a-993e-4a1b-bb7e-1fd031663cb5",
   "metadata": {},
   "outputs": [
    {
     "name": "stdout",
     "output_type": "stream",
     "text": [
      "Raw Data.csv\n",
      "/home/medha/BacteriaDetectionTracking/MEMTrack/Control_4/Raw Data.csv\n",
      "['Nr', 'TID', 'PID', 'x [pixel]', 'y [pixel]', 't [sec]', 'I [val]', 'Len [pixel]', 'D2S [pixel]', 'D2R [pixel]', 'D2P [pixel]', 'v [pixel/sec]', '? [deg]', '?? [deg]', 'E/H', 'DEL_Diff', 'Sticking', 'Subpopulation']\n",
      "2\n",
      "3\n",
      "4\n",
      "16\n",
      "17\n"
     ]
    }
   ],
   "source": [
    "data_dir = video_dir + \"/\"\n",
    "all_files = os.listdir(data_dir)\n",
    "#csv_file_name = list(filter(lambda f: f.endswith('Tracked.csv'), all_files))[0] if list(filter(lambda f: f.endswith('.csv'), all_files)) else list(filter(lambda f: f.endswith('.xlsx'), all_files))[0]\n",
    "#csv_file_name = \"Raw Data.csv\"\n",
    "csv_file = data_dir + csv_file_name\n",
    "# csv_file = source + \"/\" + video_source + \"/\" + frame_source + \"/\" + \"1.csv\"\n",
    "print(csv_file_name)\n",
    "if \".csv\" not in csv_file_name:\n",
    "    read_file = pd.read_excel(csv_file, engine='openpyxl')\n",
    "    read_file.to_csv (csv_file.split(\"xlsx\")[0]+\".csv\", \n",
    "                  index = None, header=True)\n",
    "    csv_file = csv_file.split(\"xlsx\")[0]+\".csv\"\n",
    "print(csv_file)\n",
    "file = open(csv_file)\n",
    "csvreader = csv.reader(file)\n",
    "header = []\n",
    "header = next(csvreader)\n",
    "# header = header[0].split(\"\\t\")\n",
    "print(header)\n",
    "header = [x.lower() for x in header]\n",
    "img_id = header.index('pid') #  header.index('t [Frame]') \n",
    "x_id = header.index('x [pixel]')\n",
    "y_id = header.index('y [pixel]')\n",
    "try:\n",
    "    sticking_id = header.index('sticking')\n",
    "    subpop_id = header.index('subpopulation')\n",
    "except: \n",
    "    sticking_id = None\n",
    "    subpop_id = None\n",
    "try:\n",
    "    diff_id = header.index('e/h')\n",
    "    \n",
    "except:\n",
    "    diff_id = None\n",
    "    print(\"No diff id found, assuming all easy\")\n",
    "print(img_id)\n",
    "print(x_id)\n",
    "print(y_id)\n",
    "print(sticking_id)\n",
    "print(subpop_id)\n",
    "\n",
    "rows = []\n",
    "for row in csvreader:\n",
    "        rows.append(row)\n",
    "#rows\n",
    "file.close()"
   ]
  },
  {
   "cell_type": "code",
   "execution_count": 12,
   "id": "6d026fba-097a-44b8-a338-23f0fd2aaef6",
   "metadata": {},
   "outputs": [],
   "source": [
    "count = 0\n",
    "dest_dir = target_data_sub_dir + f\"/video{video_num}/\"\n",
    "images_target =dest_dir + \"/frame1/images/\"\n",
    "annotations_easy = dest_dir + \"/frame1/annotations_easy/\"\n",
    "annotations_easy_hard = dest_dir + \"/frame1/annotations_easy_hard/\"\n",
    "annotations_hard = dest_dir + \"/frame1/annotations_hard/\"\n",
    "annotations_very_hard = dest_dir + \"/frame1/annotations_veryhard/\"\n",
    "annotations_easy_hard_veryhard = dest_dir + \"/frame1/annotations_easy_hard_veryhard/\"\n",
    "\n",
    "annotations_motility_high = dest_dir + \"/frame1/annotations_motility_high/\"\n",
    "annotations_motility_low = dest_dir + \"/frame1/annotations_motility_low/\"\n",
    "annotations_motility_wiggle = dest_dir + \"/frame1/annotations_motility_wiggle/\"\n",
    "annotations_motility_mid = dest_dir + \"/frame1/annotations_motility_mid/\"\n",
    "\n",
    "annotations_sticking_motile = dest_dir + \"/frame1/annotations_sticking_motile/\"\n",
    "annotations_sticking_non_motile = dest_dir + \"/frame1/annotations_sticking_non_motile/\"\n",
    "annotations_sticking_stick = dest_dir + \"/frame1/annotations_sticking_stick/\"\n",
    "\n",
    "\n",
    "os.makedirs(images_target, exist_ok=True)\n",
    "os.makedirs(annotations_easy_hard, exist_ok=True)\n",
    "os.makedirs(annotations_easy_hard_veryhard, exist_ok=True)\n",
    "os.makedirs(annotations_hard, exist_ok=True)\n",
    "os.makedirs(annotations_easy, exist_ok=True)\n",
    "os.makedirs(annotations_very_hard, exist_ok=True)\n",
    "\n",
    "\n",
    "os.makedirs(annotations_sticking_stick, exist_ok=True)\n",
    "os.makedirs(annotations_sticking_motile, exist_ok=True)\n",
    "os.makedirs(annotations_sticking_non_motile, exist_ok=True)\n",
    "\n",
    "os.makedirs(annotations_motility_high, exist_ok=True)\n",
    "os.makedirs(annotations_motility_wiggle, exist_ok=True)\n",
    "os.makedirs(annotations_motility_mid, exist_ok=True)\n",
    "os.makedirs(annotations_motility_low, exist_ok=True)\n",
    "\n",
    "for i,image in enumerate(files):\n",
    "    #copy and rename images\n",
    "    image_name = str(count) +\".tif\"\n",
    "    shutil.copy(images_source + image, images_target + image_name)\n",
    "    #create annoatations txt file\n",
    "    #image_id = int(files_track[i].split(\")\")[1].split(\".tif\")[0])\n",
    "    txt_file = open(annotations_easy_hard + str(count) +\".txt\",'w')\n",
    "    txt_file_easy = open(annotations_easy + str(count) +\".txt\",'w')\n",
    "    txt_file_hard = open(annotations_hard + str(count) +\".txt\",'w')\n",
    "    txt_file_very_hard = open(annotations_very_hard + str(count) +\".txt\",'w')\n",
    "    txt_file_all = open(annotations_easy_hard_veryhard + str(count) +\".txt\",'w')\n",
    "    \n",
    "    txt_file_motility_high = open(annotations_motility_high + str(count) +\".txt\",'w')\n",
    "    txt_file_motility_low = open(annotations_motility_low + str(count) +\".txt\",'w')\n",
    "    txt_file_motility_wiggle = open(annotations_motility_wiggle  + str(count) +\".txt\",'w')\n",
    "    txt_file_motility_mid = open(annotations_motility_mid + str(count) +\".txt\",'w')\n",
    "    \n",
    "    txt_file_sticking_stick = open(annotations_sticking_stick + str(count) +\".txt\",'w')\n",
    "    txt_file_sticking_motile = open(annotations_sticking_motile + str(count) +\".txt\",'w')\n",
    "    txt_file_sticking_non_motile = open(annotations_sticking_non_motile + str(count) +\".txt\",'w')\n",
    "\n",
    "    for row in rows:\n",
    "        # print(image_id)\n",
    "        # print( row[img_id])\n",
    "        ##print(row)\n",
    "        if int(row[img_id])-1 == int(count):#PID starts from 1\n",
    "            # print(image_id)\n",
    "            # print( row[img_id])\n",
    "            txt_file_all.write(row[x_id])\n",
    "            txt_file_all.write(\" \")\n",
    "            txt_file_all.write(row[y_id])\n",
    "            txt_file_all.write(\"\\n\")\n",
    "            try:\n",
    "                if row[diff_id]==\"E\":\n",
    "                    txt_file_easy.write(row[x_id])\n",
    "                    txt_file_easy.write(\" \")\n",
    "                    txt_file_easy.write(row[y_id])\n",
    "                    txt_file_easy.write(\"\\n\")\n",
    "\n",
    "                    txt_file.write(row[x_id])\n",
    "                    txt_file.write(\" \")\n",
    "                    txt_file.write(row[y_id])\n",
    "                    txt_file.write(\"\\n\")\n",
    "\n",
    "                if row[diff_id]==\"H\":\n",
    "                    txt_file_hard.write(row[x_id])\n",
    "                    txt_file_hard.write(\" \")\n",
    "                    txt_file_hard.write(row[y_id])\n",
    "                    txt_file_hard.write(\"\\n\")\n",
    "\n",
    "                    txt_file.write(row[x_id])\n",
    "                    txt_file.write(\" \")\n",
    "                    txt_file.write(row[y_id])\n",
    "                    txt_file.write(\"\\n\")                \n",
    "\n",
    "                if row[diff_id]==\"VH\":\n",
    "                    txt_file_very_hard.write(row[x_id])\n",
    "                    txt_file_very_hard.write(\" \")\n",
    "                    txt_file_very_hard.write(row[y_id])\n",
    "                    txt_file_very_hard.write(\"\\n\")\n",
    "                    \n",
    "                if row[subpop_id]==\"L\":\n",
    "                    txt_file_motility_low.write(row[x_id])\n",
    "                    txt_file_motility_low.write(\" \")\n",
    "                    txt_file_motility_low.write(row[y_id])\n",
    "                    txt_file_motility_low.write(\"\\n\")\n",
    "                if row[subpop_id]==\"W\":\n",
    "                   #print(\"wiggle\")\n",
    "                    txt_file_motility_wiggle.write(row[x_id])\n",
    "                    txt_file_motility_wiggle.write(\" \")\n",
    "                    txt_file_motility_wiggle.write(row[y_id])\n",
    "                    txt_file_motility_wiggle.write(\"\\n\")\n",
    "                if row[subpop_id]==\"M\":\n",
    "                    txt_file_motility_mid.write(row[x_id])\n",
    "                    txt_file_motility_mid.write(\" \")\n",
    "                    txt_file_motility_mid.write(row[y_id])\n",
    "                    txt_file_motility_mid.write(\"\\n\")\n",
    "                if row[subpop_id]==\"H\":\n",
    "                    txt_file_motility_high.write(row[x_id])\n",
    "                    txt_file_motility_high.write(\" \")\n",
    "                    txt_file_motility_high.write(row[y_id])\n",
    "                    txt_file_motility_high.write(\"\\n\")\n",
    "                \n",
    "                if row[sticking_id]==\"S\":\n",
    "                    txt_file_sticking_stick.write(row[x_id])\n",
    "                    txt_file_sticking_stick.write(\" \")\n",
    "                    txt_file_sticking_stick.write(row[y_id])\n",
    "                    txt_file_sticking_stick.write(\"\\n\")\n",
    "                if row[sticking_id]==\"M\":\n",
    "                    txt_file_sticking_motile.write(row[x_id])\n",
    "                    txt_file_sticking_motile.write(\" \")\n",
    "                    txt_file_sticking_motile.write(row[y_id])\n",
    "                    txt_file_sticking_motile.write(\"\\n\")\n",
    "                if row[sticking_id]==\"NM\":\n",
    "                    txt_file_sticking_non_motile.write(row[x_id])\n",
    "                    txt_file_sticking_non_motile.write(\" \")\n",
    "                    txt_file_sticking_non_motile.write(row[y_id])\n",
    "                    txt_file_sticking_non_motile.write(\"\\n\")\n",
    "            except:\n",
    "                txt_file_easy.write(row[x_id])\n",
    "                txt_file_easy.write(\" \")\n",
    "                txt_file_easy.write(row[y_id])\n",
    "                txt_file_easy.write(\"\\n\")\n",
    "        \n",
    "    txt_file.close()\n",
    "    count = count+1\n",
    "     \n",
    "        "
   ]
  },
  {
   "cell_type": "markdown",
   "id": "7ff6cd2f-cae0-41bc-a454-417a24feb27f",
   "metadata": {},
   "source": [
    "Generate Bacteria Tracks specific data for Bacteria Analysis"
   ]
  },
  {
   "cell_type": "code",
   "execution_count": 13,
   "id": "97e09821-cbf0-4727-b6a1-f65ccfa98722",
   "metadata": {},
   "outputs": [],
   "source": [
    "#run only once to generate bacteria data\n",
    "def generate_bacteria_data(file, video_dir):\n",
    "#     all_files = os.listdir(video_data_path)\n",
    "#     csv_file = list(filter(lambda f: f.endswith('.xlsx'), all_files))[0]\n",
    "#     #csv_file = \"./050421_Agar_sworm_plate#5_Set_1_RBS_2_1_Easy_and_hard.xlsx\"\n",
    "#     read_file = pd.read_excel(os.path.join(video_data_path, csv_file), engine='openpyxl')\n",
    "#     read_file.to_csv (csv_file.split(\"xlsx\")[0]+\".csv\", \n",
    "#                       index = None,\n",
    "#                       header=True)\n",
    "\n",
    "#     file = open(csv_file.split(\"xlsx\")[0]+\".csv\")\n",
    "    csvreader = csv.reader(file)\n",
    "    header = []\n",
    "    header = next(csvreader)\n",
    "    # header = header[0].split(\"\\t\")\n",
    "    print(header)\n",
    "    header = [x.lower() for x in header]\n",
    "    img_id = header.index('pid') #  header.index('t [Frame]') \n",
    "    x_id = header.index('x [pixel]')\n",
    "    y_id = header.index('y [pixel]')\n",
    "    try:\n",
    "        diff_id = header.index('e/h')\n",
    "    except:\n",
    "        diff_id = None\n",
    "        print(\"No diff id found, assuming all easy\")\n",
    "    track_id = header.index('tid')\n",
    "    print(img_id)\n",
    "    print(x_id)\n",
    "    print(y_id)\n",
    "    print(track_id)\n",
    "\n",
    "    rows = []\n",
    "    for row in csvreader:\n",
    "            rows.append(row)\n",
    "    print(rows[:6])\n",
    "    file.close()\n",
    "    \n",
    "    tid_visited = []\n",
    "    #video_dir = \"./video9_feature_optical_flow_median_back_2pyr_18win/test/\"\n",
    "    bacteria_folder = \"bacteria\"\n",
    "    bacteria_easy_hard_state_file = \"easy_hard_veryhard\"\n",
    "    bacteria_coords = \"xy_coord\"\n",
    "    count = 0\n",
    "    max_pid = 0\n",
    "    prev_tid = 0\n",
    "\n",
    "    for row in rows:\n",
    "        pid = int(row[img_id])-1\n",
    "        if max_pid < pid:\n",
    "            max_pid = pid\n",
    "\n",
    "    for row in rows:\n",
    "        tid = row[track_id]\n",
    "        if tid not in tid_visited:\n",
    "            tid_visited.append(tid)\n",
    "\n",
    "    #         if count<(max_pid-1) and count>0:\n",
    "    #             # print(row)\n",
    "    #             # print(rows[i+1])\n",
    "    #             print(count)\n",
    "    #             print(max_pid)\n",
    "    #             for i in range((max_pid - count-1)):\n",
    "    #                 txt_file.write(str(count))\n",
    "    #                 txt_file.write(\" \")\n",
    "    #                 txt_file.write(\"NotPresent\")\n",
    "    #                 txt_file.write(\"\\n\")\n",
    "\n",
    "    #                 coord_file = open(os.path.join(video_dir, bacteria_folder, str(prev_tid), bacteria_coords, str(count)) +\".txt\",'w')\n",
    "    #                 coord_file.close()\n",
    "    #                 count = count+1\n",
    "            # txt_file.close()\n",
    "            # coord_file.close()\n",
    "            count = 0\n",
    "            os.makedirs(os.path.join(video_dir, bacteria_folder, str(tid), bacteria_coords), exist_ok=True)\n",
    "            #os.makedirs(os.path.join(video_dir, bacteria_folder, str(tid)), exist_ok=True)\n",
    "            try:\n",
    "                os.remove(os.path.join(video_dir, bacteria_folder, str(tid), bacteria_easy_hard_state_file) +\".txt\")\n",
    "                #os.remove(os.path.join(video_dir, bacteria_folder, str(tid), bacteria_coords, str(count)) +\".txt\")\n",
    "            except OSError:\n",
    "                pass\n",
    "\n",
    "        txt_file = open(os.path.join(video_dir, bacteria_folder, str(tid), bacteria_easy_hard_state_file) +\".txt\",'a')\n",
    "        pid = int(row[img_id]) - 1\n",
    "        if int(pid) == 0: #for optical flow since first frame is skipped\n",
    "            continue\n",
    "        if pid-2>count: # pid-1 because 1 is skipped\n",
    "            # print(count)\n",
    "            # print(pid)\n",
    "            for i in range((pid - count-1)):\n",
    "                txt_file.write(str(count))\n",
    "                txt_file.write(\" \")\n",
    "                txt_file.write(\"NotPresent\")\n",
    "                txt_file.write(\"\\n\")\n",
    "\n",
    "                coord_file = open(os.path.join(video_dir, bacteria_folder, str(tid), bacteria_coords, str(count)) +\".txt\",'w')\n",
    "                coord_file.close()\n",
    "                count = count+1\n",
    "\n",
    "        txt_file.write(str(count))\n",
    "        txt_file.write(\" \")\n",
    "        try:\n",
    "            txt_file.write(row[diff_id])\n",
    "        except:\n",
    "            txt_file.write(\"E\")\n",
    "            #print(\"No diff id found, assuming all easy\")\n",
    "        txt_file.write(\"\\n\")\n",
    "\n",
    "\n",
    "\n",
    "        coord_file = open(os.path.join(video_dir, bacteria_folder, str(tid), bacteria_coords, str(count)) +\".txt\",'a')\n",
    "        coord_file.write(row[x_id])\n",
    "        coord_file.write(\" \")\n",
    "        coord_file.write(row[y_id])\n",
    "        coord_file.write(\"\\n\")\n",
    "\n",
    "\n",
    "        count = count+1\n",
    "\n",
    "    if count<(max_pid-1) and count>0:\n",
    "            # print(row)\n",
    "            # print(rows[i+1])\n",
    "            print(count)\n",
    "            print(max_pid)\n",
    "            for i in range((max_pid - count)):\n",
    "                txt_file.write(str(count))\n",
    "                txt_file.write(\" \")\n",
    "                txt_file.write(\"NotPresent\")\n",
    "                txt_file.write(\"\\n\")\n",
    "\n",
    "                coord_file = open(os.path.join(video_dir, bacteria_folder, str(tid), bacteria_coords, str(count)) +\".txt\",'w')\n",
    "                coord_file.close()\n",
    "                count = count+1\n",
    "    txt_file.close()\n",
    "    coord_file.close()\n",
    "\n",
    "    \n"
   ]
  },
  {
   "cell_type": "code",
   "execution_count": 14,
   "id": "d8c704be-8e42-44a5-a519-514b0e76abca",
   "metadata": {},
   "outputs": [
    {
     "name": "stdout",
     "output_type": "stream",
     "text": [
      "['Nr', 'TID', 'PID', 'x [pixel]', 'y [pixel]', 't [sec]', 'I [val]', 'Len [pixel]', 'D2S [pixel]', 'D2R [pixel]', 'D2P [pixel]', 'v [pixel/sec]', '? [deg]', '?? [deg]', 'E/H', 'DEL_Diff', 'Sticking', 'Subpopulation']\n",
      "2\n",
      "3\n",
      "4\n",
      "1\n",
      "[['1', '1', '1', '461.757', '347.733', '0', '196', '0.0', '0.0', '', '', '', '', '', 'H', '-0.8828949319260454', 'M', 'H'], ['2', '1', '2', '461.757', '347.733', '0', '194', '0.0', '0.0', '', '0.0', '', '0.0', '', 'H', '0.2888720548427962', 'M', 'H'], ['3', '1', '3', '461.757', '347.733', '0', '191', '0.0', '0.0', '', '0.0', '', '0.0', '0.0', 'H', '0.4209067180548305', 'M', 'H'], ['4', '1', '4', '462.784', '347.733', '0', '217', '1.027', '1.027', '', '1.027', '', '0.0', '0.0', 'H', '0.5165881079910245', 'M', 'H'], ['5', '1', '5', '462.784', '347.733', '0', '187', '1.027', '1.027', '', '0.0', '', '0.0', '0.0', 'H', '0.5323234989267642', 'M', 'H'], ['6', '1', '6', '462.784', '347.733', '0', '186', '1.027', '1.027', '', '0.0', '', '0.0', '0.0', 'H', '0.5298905547008024', 'M', 'H']]\n"
     ]
    }
   ],
   "source": [
    "target_video_dir = f\"{target_data_sub_dir}/video{video_num}/frame1\"\n",
    "file = open(csv_file)\n",
    "generate_bacteria_data(file, target_video_dir)\n",
    "file.close()"
   ]
  },
  {
   "cell_type": "code",
   "execution_count": 15,
   "id": "6afb31b3-41e6-43de-846f-314add0f6f43",
   "metadata": {},
   "outputs": [],
   "source": [
    "#delete the unzipped folder in main data dir\n",
    "shutil.rmtree(video_dir)"
   ]
  },
  {
   "cell_type": "markdown",
   "id": "4a655cad-fe67-4eb1-9e94-701c726b9874",
   "metadata": {},
   "source": [
    "create feature data using motion features"
   ]
  },
  {
   "cell_type": "code",
   "execution_count": 16,
   "id": "d8ac5d70-3846-48b4-9ce9-9ad76608602b",
   "metadata": {},
   "outputs": [],
   "source": [
    "def create_video(data_dir):\n",
    "    # choose codec according to format needed\n",
    "    fourcc = cv2.VideoWriter_fourcc(*'mp4v') \n",
    "    #print(data_dir)\n",
    "    img_sample = cv2.imread(os.path.join(data_dir,\"images/0.tif\"))\n",
    "    #print(img_sample.shape)\n",
    "    height, width, channels = img_sample.shape\n",
    "    \n",
    "    video = cv2.VideoWriter(data_dir + 'video.mp4', fourcc, 1, (width, height))\n",
    "    #data_dir = \"./Data/video3/\"\n",
    "    image_dir = os.path.join(data_dir, \"images\")\n",
    "    for frame in natsorted(os.listdir(image_dir)):\n",
    "        #print(frame)\n",
    "        img = cv2.imread(os.path.join(image_dir, frame))\n",
    "        video.write(img)\n",
    "\n",
    "    cv2.destroyAllWindows()\n",
    "    video.release()"
   ]
  },
  {
   "cell_type": "code",
   "execution_count": 17,
   "id": "ba1d8413-473a-4359-b3f4-e6033ba11a5e",
   "metadata": {},
   "outputs": [],
   "source": [
    "#iterate through video1,2,4\n",
    "#create videos for all frame sets- 1-1,1-2..2-1..4-2\n",
    "data_path = target_data_sub_dir\n",
    "test_video = [f\"video{video_num}\"]\n",
    "for video in natsorted(test_video):\n",
    "    if not video.startswith('.') and os.path.isdir(os.path.join(data_path,video))==True:\n",
    "        for minivideo in natsorted(os.listdir(os.path.join(data_path,video))):\n",
    "            if not minivideo.startswith('.') and os.path.isdir(os.path.join(data_path,video,minivideo)) == True:\n",
    "                #print(minivideo)\n",
    "                create_video(os.path.join(data_path,video,minivideo))\n",
    "    \n",
    "    "
   ]
  },
  {
   "cell_type": "code",
   "execution_count": 18,
   "id": "af8fe176-24d0-4ed9-b79b-48e6e6bbf30f",
   "metadata": {},
   "outputs": [],
   "source": [
    "def get_background(file_path, mean=True, sample=False):\n",
    "    cap = cv2.VideoCapture(file_path)\n",
    "    #print(cap.read())\n",
    "    # we will randomly select 50 frames for the calculating the median\n",
    "    #frame_indices = cap.get(cv2.CAP_PROP_FRAME_COUNT) * np.random.uniform(size=20)\n",
    "    frame_indices = list(range(0,int(cap.get(cv2.CAP_PROP_FRAME_COUNT)) ))\n",
    "    print(len(frame_indices))\n",
    "    # we will store the frames in array\n",
    "    frames = []\n",
    "    for idx in frame_indices:\n",
    "        # set the frame id to read that particular frame\n",
    "        cap.set(cv2.CAP_PROP_POS_FRAMES, idx)\n",
    "        ret, frame = cap.read()\n",
    "        #print(ret)\n",
    "        frames.append(frame)\n",
    "    if mean:\n",
    "         # calculate the mean\n",
    "        background_frame = np.mean(frames, axis=0).astype(np.uint8)\n",
    "    else:\n",
    "        # calculate the median\n",
    "        background_frame = np.median(frames, axis=0).astype(np.uint8)\n",
    "    if sample==True:\n",
    "        background_frame = cv2.imread(\"./Control_2_b0t5306c0x0-660y0-492.tiff\")\n",
    "        #background_frame = cv2.imread(\"./RBS 2_1_b0t2791c0x0-660y0-492.tiff\")\n",
    "    return background_frame"
   ]
  },
  {
   "cell_type": "code",
   "execution_count": 19,
   "id": "292bfccd-bcee-401b-b2f5-72c7cf8626df",
   "metadata": {},
   "outputs": [
    {
     "name": "stdout",
     "output_type": "stream",
     "text": [
      "150\n"
     ]
    },
    {
     "data": {
      "text/plain": [
       "(492, 660, 3)"
      ]
     },
     "execution_count": 19,
     "metadata": {},
     "output_type": "execute_result"
    }
   ],
   "source": [
    "get_background(f\"{target_data_sub_dir}/video{video_num}/frame1video.mp4\").shape"
   ]
  },
  {
   "cell_type": "code",
   "execution_count": null,
   "id": "df20a196-1fd3-498a-b7b4-63ae0503afde",
   "metadata": {},
   "outputs": [],
   "source": []
  }
 ],
 "metadata": {
  "kernelspec": {
   "display_name": "Python 3 (ipykernel)",
   "language": "python",
   "name": "python3"
  },
  "language_info": {
   "codemirror_mode": {
    "name": "ipython",
    "version": 3
   },
   "file_extension": ".py",
   "mimetype": "text/x-python",
   "name": "python",
   "nbconvert_exporter": "python",
   "pygments_lexer": "ipython3",
   "version": "3.8.14"
  }
 },
 "nbformat": 4,
 "nbformat_minor": 5
}
